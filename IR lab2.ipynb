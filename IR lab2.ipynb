{
 "cells": [
  {
   "cell_type": "markdown",
   "id": "829a0812-7709-43ea-b0bc-82650185a17a",
   "metadata": {},
   "source": [
    "Implement a program for retrieval of documents using inverted \n",
    "files."
   ]
  },
  {
   "cell_type": "code",
   "execution_count": 3,
   "id": "33ab4a7c-9297-40b7-93f4-70dcdcb57787",
   "metadata": {},
   "outputs": [],
   "source": [
    "from collections import defaultdict\n",
    "import re"
   ]
  },
  {
   "cell_type": "code",
   "execution_count": 5,
   "id": "a64e4fd5-58bf-46eb-b06b-b48529728f82",
   "metadata": {},
   "outputs": [],
   "source": [
    "def tokenize(text):\n",
    "    # Convert to lowercase and tokenize the text by words, keeping only alphanumeric tokens\n",
    "    tokens = re.findall(r'\\b\\w+\\b', text.lower())\n",
    "    return tokens"
   ]
  },
  {
   "cell_type": "code",
   "execution_count": 7,
   "id": "bc56817f-dc06-46d2-9360-0a37ff3f0e07",
   "metadata": {},
   "outputs": [],
   "source": [
    "def build_inverted_index(documents):\n",
    "    inverted_index = defaultdict(list)\n",
    "    \n",
    "    for doc_id, text in enumerate(documents):\n",
    "        tokens = tokenize(text)\n",
    "        for token in tokens:\n",
    "            if doc_id not in inverted_index[token]:\n",
    "                inverted_index[token].append(doc_id)  # Add doc_id if not already present\n",
    "    \n",
    "    return inverted_index"
   ]
  },
  {
   "cell_type": "code",
   "execution_count": 9,
   "id": "7bf0d505-aeda-4895-bf9a-568b0f6e5fb4",
   "metadata": {},
   "outputs": [],
   "source": [
    "def retrieve_documents(query, inverted_index):\n",
    "    query_tokens = tokenize(query)\n",
    "    doc_sets = []\n",
    "    \n",
    "    for token in query_tokens:\n",
    "        if token in inverted_index:\n",
    "            doc_sets.append(set(inverted_index[token]))\n",
    "        else:\n",
    "            return []  # If any token is not found, return an empty list (no documents found)\n",
    "    \n",
    "    # Intersect all sets of document IDs to get the final matching documents\n",
    "    result_docs = set.intersection(*doc_sets) if doc_sets else set()\n",
    "    return list(result_docs)"
   ]
  },
  {
   "cell_type": "code",
   "execution_count": 11,
   "id": "fe400557-e851-494f-9733-440b26464423",
   "metadata": {},
   "outputs": [
    {
     "name": "stdout",
     "output_type": "stream",
     "text": [
      "Inverted Index: {'natural': [0], 'language': [0], 'processing': [0], 'with': [0], 'python': [0, 2], 'deep': [1], 'learning': [1, 2], 'models': [1, 3], 'for': [1, 2], 'ai': [1, 3], 'and': [1, 3], 'nlp': [1, 3], 'tasks': [1], 'programming': [2], 'machine': [2], 'in': [3], 'healthcare': [3]}\n",
      "Documents matching query: []\n"
     ]
    }
   ],
   "source": [
    "# List of example documents\n",
    "documents = [\n",
    "    \"Natural language processing with Python.\",\n",
    "    \"Deep learning models for AI and NLP tasks.\",\n",
    "    \"Python programming for machine learning.\",\n",
    "    \"AI models in healthcare and NLP.\"\n",
    "]\n",
    "\n",
    "# Build the inverted index\n",
    "inverted_index = build_inverted_index(documents)\n",
    "print(\"Inverted Index:\", dict(inverted_index))\n",
    "\n",
    "# Query the inverted index\n",
    "query = \"NLP and Python\"\n",
    "matching_docs = retrieve_documents(query, inverted_index)\n",
    "\n",
    "# Display the matching documents\n",
    "print(\"Documents matching query:\", matching_docs)\n",
    "for doc_id in matching_docs:\n",
    "    print(f\"Doc {doc_id}: {documents[doc_id]}\")"
   ]
  },
  {
   "cell_type": "code",
   "execution_count": null,
   "id": "2dd11c53-06ec-476d-b370-7a780b58997f",
   "metadata": {},
   "outputs": [],
   "source": []
  }
 ],
 "metadata": {
  "kernelspec": {
   "display_name": "Python 3 (ipykernel)",
   "language": "python",
   "name": "python3"
  },
  "language_info": {
   "codemirror_mode": {
    "name": "ipython",
    "version": 3
   },
   "file_extension": ".py",
   "mimetype": "text/x-python",
   "name": "python",
   "nbconvert_exporter": "python",
   "pygments_lexer": "ipython3",
   "version": "3.12.4"
  }
 },
 "nbformat": 4,
 "nbformat_minor": 5
}
